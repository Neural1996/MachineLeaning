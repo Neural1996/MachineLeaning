{
 "cells": [
  {
   "cell_type": "markdown",
   "id": "a39021e8",
   "metadata": {},
   "source": [
    "# 单变量线性回归     lm"
   ]
  },
  {
   "cell_type": "markdown",
   "id": "c0f6d962",
   "metadata": {},
   "source": [
    "## 训练数据为一个公司流动购物车的收益，与其所在城市的人口数量，使用线性回归模型进行拟合\n",
    "## 来源吴恩达机器学习公开课，代码参考网络并进行了一些改进\n"
   ]
  },
  {
   "cell_type": "markdown",
   "id": "e2788e32",
   "metadata": {},
   "source": [
    "## 显示原始数据"
   ]
  },
  {
   "cell_type": "code",
   "execution_count": 1,
   "id": "96f2dcd2",
   "metadata": {},
   "outputs": [],
   "source": [
    "import numpy as np\n",
    "import pandas as pd\n",
    "import matplotlib.pyplot as plt"
   ]
  },
  {
   "cell_type": "code",
   "execution_count": 2,
   "id": "24e9e65d",
   "metadata": {},
   "outputs": [
    {
     "data": {
      "text/html": [
       "<div>\n",
       "<style scoped>\n",
       "    .dataframe tbody tr th:only-of-type {\n",
       "        vertical-align: middle;\n",
       "    }\n",
       "\n",
       "    .dataframe tbody tr th {\n",
       "        vertical-align: top;\n",
       "    }\n",
       "\n",
       "    .dataframe thead th {\n",
       "        text-align: right;\n",
       "    }\n",
       "</style>\n",
       "<table border=\"1\" class=\"dataframe\">\n",
       "  <thead>\n",
       "    <tr style=\"text-align: right;\">\n",
       "      <th></th>\n",
       "      <th>Population</th>\n",
       "      <th>Profit</th>\n",
       "    </tr>\n",
       "  </thead>\n",
       "  <tbody>\n",
       "    <tr>\n",
       "      <th>0</th>\n",
       "      <td>6.1101</td>\n",
       "      <td>17.5920</td>\n",
       "    </tr>\n",
       "    <tr>\n",
       "      <th>1</th>\n",
       "      <td>5.5277</td>\n",
       "      <td>9.1302</td>\n",
       "    </tr>\n",
       "    <tr>\n",
       "      <th>2</th>\n",
       "      <td>8.5186</td>\n",
       "      <td>13.6620</td>\n",
       "    </tr>\n",
       "    <tr>\n",
       "      <th>3</th>\n",
       "      <td>7.0032</td>\n",
       "      <td>11.8540</td>\n",
       "    </tr>\n",
       "    <tr>\n",
       "      <th>4</th>\n",
       "      <td>5.8598</td>\n",
       "      <td>6.8233</td>\n",
       "    </tr>\n",
       "  </tbody>\n",
       "</table>\n",
       "</div>"
      ],
      "text/plain": [
       "   Population   Profit\n",
       "0      6.1101  17.5920\n",
       "1      5.5277   9.1302\n",
       "2      8.5186  13.6620\n",
       "3      7.0032  11.8540\n",
       "4      5.8598   6.8233"
      ]
     },
     "execution_count": 2,
     "metadata": {},
     "output_type": "execute_result"
    }
   ],
   "source": [
    "path =  'C:/Users/liuming/.ipynb_checkpoints/ex1data1.txt'\n",
    "data = pd.read_csv(path, header=None, names=['Population', 'Profit'])\n",
    "data.head()"
   ]
  },
  {
   "cell_type": "markdown",
   "id": "f8f2bee1",
   "metadata": {},
   "source": [
    "1.用path保存数据文件路径（注意：路径应使用'/'，用'\\'会报错）。  \n",
    "2.用pandas中的read_csv读取数据，返回dataframe表格型数据类型，首个参数是文件路径，也就是path表示的字符串，name被赋值,header=None,表示自动给行的index，name为列的表头。  \n",
    "3.head函数默认显示前五行数据。  "
   ]
  },
  {
   "cell_type": "code",
   "execution_count": 3,
   "id": "713e05cc",
   "metadata": {
    "scrolled": false
   },
   "outputs": [
    {
     "data": {
      "text/plain": [
       "<function matplotlib.pyplot.show(close=None, block=None)>"
      ]
     },
     "execution_count": 3,
     "metadata": {},
     "output_type": "execute_result"
    },
    {
     "data": {
      "image/png": "[encoded data removed]",
      "text/plain": [
       "<Figure size 864x576 with 1 Axes>"
      ]
     },
     "metadata": {
      "needs_background": "light"
     },
     "output_type": "display_data"
    }
   ],
   "source": [
    "data.plot(x='Population', y='Profit',  kind='scatter', figsize=(12,8))\n",
    "plt.show"
   ]
  },
  {
   "cell_type": "markdown",
   "id": "54cedf06",
   "metadata": {},
   "source": [
    "1.pandas是numpy与plt的集合体，其中有便捷的绘图函数plot，有多个可传入参数，其中前两项分别为x，y轴的名称，kind表示绘图的样式，figsize用来指定图的大小。  \n",
    "2.plt中的show函数，显示图片。"
   ]
  },
  {
   "cell_type": "markdown",
   "id": "54296f69",
   "metadata": {},
   "source": [
    "## 代价函数"
   ]
  },
  {
   "cell_type": "code",
   "execution_count": 4,
   "id": "9763bbf2",
   "metadata": {},
   "outputs": [],
   "source": [
    "def costFounction(X, y, theta):\n",
    "    sum = ((X * theta.T) - y).T * ((X * theta.T) - y)\n",
    "    return sum / (2 * len(X))"
   ]
  },
  {
   "cell_type": "markdown",
   "id": "62188f78",
   "metadata": {},
   "source": [
    "代价函数：X是输入的数据，y是X对应的结果，theta是模型参数，X * theta.T是假设函数的矩阵形式， ((X * theta.T) - y).T * ((X * theta.T) - y)：用自己与自己的转置相乘的形式来表示平方和求和，复杂的平方再求和的步骤，用一个矩阵的乘法轻松解决，注意这其中的矩阵思想，“万物皆矩阵”！！！！"
   ]
  },
  {
   "cell_type": "code",
   "execution_count": 5,
   "id": "eb060dc2",
   "metadata": {},
   "outputs": [],
   "source": [
    "data.insert(0, \"ones\", 1)"
   ]
  },
  {
   "cell_type": "markdown",
   "id": "3b17b643",
   "metadata": {},
   "source": [
    "insert函数，向df中插入指定列，第一个参数代表location，第二个参数为列名，第三个参数为该列的值，可以是数字，数组，series"
   ]
  },
  {
   "cell_type": "code",
   "execution_count": 6,
   "id": "3e92722e",
   "metadata": {
    "scrolled": false
   },
   "outputs": [
    {
     "data": {
      "text/html": [
       "<div>\n",
       "<style scoped>\n",
       "    .dataframe tbody tr th:only-of-type {\n",
       "        vertical-align: middle;\n",
       "    }\n",
       "\n",
       "    .dataframe tbody tr th {\n",
       "        vertical-align: top;\n",
       "    }\n",
       "\n",
       "    .dataframe thead th {\n",
       "        text-align: right;\n",
       "    }\n",
       "</style>\n",
       "<table border=\"1\" class=\"dataframe\">\n",
       "  <thead>\n",
       "    <tr style=\"text-align: right;\">\n",
       "      <th></th>\n",
       "      <th>ones</th>\n",
       "      <th>Population</th>\n",
       "      <th>Profit</th>\n",
       "    </tr>\n",
       "  </thead>\n",
       "  <tbody>\n",
       "    <tr>\n",
       "      <th>0</th>\n",
       "      <td>1</td>\n",
       "      <td>6.1101</td>\n",
       "      <td>17.5920</td>\n",
       "    </tr>\n",
       "    <tr>\n",
       "      <th>1</th>\n",
       "      <td>1</td>\n",
       "      <td>5.5277</td>\n",
       "      <td>9.1302</td>\n",
       "    </tr>\n",
       "    <tr>\n",
       "      <th>2</th>\n",
       "      <td>1</td>\n",
       "      <td>8.5186</td>\n",
       "      <td>13.6620</td>\n",
       "    </tr>\n",
       "    <tr>\n",
       "      <th>3</th>\n",
       "      <td>1</td>\n",
       "      <td>7.0032</td>\n",
       "      <td>11.8540</td>\n",
       "    </tr>\n",
       "    <tr>\n",
       "      <th>4</th>\n",
       "      <td>1</td>\n",
       "      <td>5.8598</td>\n",
       "      <td>6.8233</td>\n",
       "    </tr>\n",
       "  </tbody>\n",
       "</table>\n",
       "</div>"
      ],
      "text/plain": [
       "   ones  Population   Profit\n",
       "0     1      6.1101  17.5920\n",
       "1     1      5.5277   9.1302\n",
       "2     1      8.5186  13.6620\n",
       "3     1      7.0032  11.8540\n",
       "4     1      5.8598   6.8233"
      ]
     },
     "execution_count": 6,
     "metadata": {},
     "output_type": "execute_result"
    }
   ],
   "source": [
    "data.head()"
   ]
  },
  {
   "cell_type": "code",
   "execution_count": 7,
   "id": "5841fb30",
   "metadata": {},
   "outputs": [
    {
     "data": {
      "text/plain": [
       "3"
      ]
     },
     "execution_count": 7,
     "metadata": {},
     "output_type": "execute_result"
    }
   ],
   "source": [
    "col = data.shape[1]\n",
    "col"
   ]
  },
  {
   "cell_type": "markdown",
   "id": "5c55a5cf",
   "metadata": {},
   "source": [
    "df.shape[1]和df.shape[0]分别用来查看列的的数量和行的数量"
   ]
  },
  {
   "cell_type": "code",
   "execution_count": 8,
   "id": "3615c80d",
   "metadata": {},
   "outputs": [
    {
     "data": {
      "text/plain": [
       "pandas.core.frame.DataFrame"
      ]
     },
     "execution_count": 8,
     "metadata": {},
     "output_type": "execute_result"
    }
   ],
   "source": [
    "X = data.iloc[:, 0:col - 1]\n",
    "type(X)"
   ]
  },
  {
   "cell_type": "markdown",
   "id": "39293460",
   "metadata": {},
   "source": [
    "iloc[]根据坐标从df中选取数据，他的参数也可以是两个切片，从而对df进行分割，第一个切片为针对行，第二个切片针对列\n",
    "去除数据中的最后一列，也就是真实值y，剩下的两列就是每个参数的特征值"
   ]
  },
  {
   "cell_type": "code",
   "execution_count": 9,
   "id": "f509e14a",
   "metadata": {},
   "outputs": [
    {
     "data": {
      "text/plain": [
       "numpy.matrix"
      ]
     },
     "execution_count": 9,
     "metadata": {},
     "output_type": "execute_result"
    }
   ],
   "source": [
    "X = np.matrix(X.values)  # 根据X的值做成矩阵以便进行运算\n",
    "type(X)"
   ]
  },
  {
   "cell_type": "code",
   "execution_count": 10,
   "id": "1301802e",
   "metadata": {
    "scrolled": true
   },
   "outputs": [
    {
     "data": {
      "text/plain": [
       "matrix([[32.07273388]])"
      ]
     },
     "execution_count": 10,
     "metadata": {},
     "output_type": "execute_result"
    }
   ],
   "source": [
    "y = data.iloc[:, col - 1:col]\n",
    "y = np.matrix(y.values)\n",
    "theta = np.matrix(np.array([0, 0]))  # theta 是一个(1,2)矩阵\n",
    "costFounction(X, y, theta)  # 求出代价函数的值32.072733877455676,是1*1的矩阵"
   ]
  },
  {
   "cell_type": "markdown",
   "id": "01f690b2",
   "metadata": {},
   "source": [
    "## 梯度下降算法"
   ]
  },
  {
   "cell_type": "code",
   "execution_count": 11,
   "id": "989a36ab",
   "metadata": {},
   "outputs": [],
   "source": [
    "def gradientDescent(X, y, theta, alpha, iters):\n",
    "    \"\"\"梯度下降算法\n",
    "    alpha：学习率\n",
    "    iters：迭代次数\n",
    "    theta：为最初设置的模型参数\n",
    "    \"\"\"\n",
    "    cost = np.zeros(iters) # 构造一个矩阵，用来接收每次迭代的代价值，以便后面进行直观观察\n",
    "    m = len(X)  # m是样本的个数，也就是x的长度\n",
    "    for i in range(iters):  # 循环迭代，注意这里for循环的用法，range()返回一个可迭代的对象\n",
    "        theta = theta - (alpha / m) * (X * theta.T - y).T * X\n",
    "        # 注意这个也是用矩阵代替复杂运算，(X * theta.T).T * X：跟上面的代价函数一样都是用两个矩阵相乘直接算出了sum（其中一个要进行转置）\n",
    "        cost[i] = costFounction(X, y, theta)\n",
    "    return theta, cost "
   ]
  },
  {
   "cell_type": "markdown",
   "id": "e9a95822",
   "metadata": {},
   "source": [
    "梯度下降算法，要求的是同时更新所有theta模型参数，但使用矩阵运算时，实际上就相当于了同时更新"
   ]
  },
  {
   "cell_type": "code",
   "execution_count": 12,
   "id": "a90d5bca",
   "metadata": {},
   "outputs": [],
   "source": [
    "alpha = 0.01 # 设置学习率\n",
    "iters = 1000 # 设置迭代次数"
   ]
  },
  {
   "cell_type": "code",
   "execution_count": 13,
   "id": "d1294390",
   "metadata": {},
   "outputs": [
    {
     "data": {
      "text/plain": [
       "matrix([[4.5159555]])"
      ]
     },
     "execution_count": 13,
     "metadata": {},
     "output_type": "execute_result"
    }
   ],
   "source": [
    "final_theta, cost = gradientDescent(X, y, theta, alpha, iters)\n",
    "costFounction(X, y, final_theta) # 查看一下迭代后的最终代价值"
   ]
  },
  {
   "cell_type": "markdown",
   "id": "7e380311",
   "metadata": {},
   "source": [
    "## 得出最终的假设函数"
   ]
  },
  {
   "cell_type": "code",
   "execution_count": 14,
   "id": "9c83ee57",
   "metadata": {},
   "outputs": [],
   "source": [
    "x = np.linspace(data.Population.min(), data.Population.max(), 200) # 设置假设函数中自变量的取值"
   ]
  },
  {
   "cell_type": "markdown",
   "id": "31c7a15a",
   "metadata": {},
   "source": [
    "numpy.linspace()函数：再指定间隔内，返回均匀间隔的数字，第三个参数是返回的个数，返回值是ndarray的数据类型"
   ]
  },
  {
   "cell_type": "code",
   "execution_count": 15,
   "id": "47ae69b3",
   "metadata": {},
   "outputs": [
    {
     "data": {
      "text/plain": [
       "numpy.ndarray"
      ]
     },
     "execution_count": 15,
     "metadata": {},
     "output_type": "execute_result"
    }
   ],
   "source": [
    "h = final_theta[0, 0] * 1 + final_theta[0, 1] * x # 假设函数\n",
    "type(h) # 注意h的数据类型"
   ]
  },
  {
   "cell_type": "markdown",
   "id": "fdc51752",
   "metadata": {},
   "source": [
    "## 可视化所有结果"
   ]
  },
  {
   "cell_type": "code",
   "execution_count": 16,
   "id": "65416813",
   "metadata": {},
   "outputs": [
    {
     "data": {
      "text/plain": [
       "<function matplotlib.pyplot.show(close=None, block=None)>"
      ]
     },
     "execution_count": 16,
     "metadata": {},
     "output_type": "execute_result"
    },
    {
     "data": {
      "image/png": "[encoded data removed]",
      "text/plain": [
       "<Figure size 1728x576 with 2 Axes>"
      ]
     },
     "metadata": {
      "needs_background": "light"
     },
     "output_type": "display_data"
    }
   ],
   "source": [
    "fig, ax = plt.subplots(1, 2, figsize=(24,8)) # 创建画布\n",
    "ax[0].plot(x, h, 'r', label = 'Prediction') # 在第一个子图中绘制假设函数图像，颜色为red，并设置标签\n",
    "ax[0].scatter(data.Population, data.Profit, label='Training Data') # 同时在第一个子图中画出训练数据的散点图\n",
    "ax[0].legend() # legend函数专门用来显示图例（标签）\n",
    "ax[0].set(xlabel='Population', ylabel='Profit', title='Predicted Profit vs. Population Size') # set函数设置子图的各个属性\n",
    "\n",
    "ax[1].plot(np.arange(iters), cost, 'r') # 在第二个子图中绘制迭代次数与代价函数值的图像，直观显示梯度下降的结果\n",
    "ax[1].set(xlabel='Iterations', ylabel='Cost', title='Cost vs. Training Epoch')\n",
    "plt.show"
   ]
  },
  {
   "cell_type": "markdown",
   "id": "2fe70f77",
   "metadata": {},
   "source": [
    "1.subplots函数创建画布和子图，前两个参数就像数组一样，后面是整个画布的size  \n",
    "2.plot与scatter都是要接收x与y轴的数据分布来绘制图像，而不是只接受一个函数就行  \n",
    "3.np.arange()函数返回一个序列，默认是从0到所输入的参数，步长为1"
   ]
  }
 ],
 "metadata": {
  "kernelspec": {
   "display_name": "Python 3",
   "language": "python",
   "name": "python3"
  },
  "language_info": {
   "codemirror_mode": {
    "name": "ipython",
    "version": 3
   },
   "file_extension": ".py",
   "mimetype": "text/x-python",
   "name": "python",
   "nbconvert_exporter": "python",
   "pygments_lexer": "ipython3",
   "version": "3.8.8"
  }
 },
 "nbformat": 4,
 "nbformat_minor": 5
}
